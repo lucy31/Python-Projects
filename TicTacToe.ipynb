{
 "cells": [
  {
   "cell_type": "code",
   "execution_count": null,
   "metadata": {},
   "outputs": [],
   "source": [
    "from IPython.display import clear_output\n",
    "import random"
   ]
  },
  {
   "cell_type": "code",
   "execution_count": null,
   "metadata": {},
   "outputs": [],
   "source": [
    "def space_check(board, position):\n",
    "    return board[position-1]==' '"
   ]
  },
  {
   "cell_type": "code",
   "execution_count": null,
   "metadata": {},
   "outputs": [],
   "source": [
    "def full_board_check(board):\n",
    "    return ' ' not in board\n",
    "\n",
    "def player_choice(board):\n",
    "    print('\\n---Please Enter The Position of Your Choice---')\n",
    "    valid_position = False\n",
    "    position = -1\n",
    "    while not valid_position:\n",
    "        try:\n",
    "            position = int(input('---Select a Number Between 1-9 ---'))\n",
    "            if position>9 or position<1:\n",
    "                print('---Incorrect Input---')\n",
    "                valid_position = False\n",
    "            else:\n",
    "                valid_position = space_check(board, position)\n",
    "                if valid_position == False:\n",
    "                    print('---Position Already Locked, Please Make A Different Choice---')\n",
    "        except:\n",
    "            print('---Incorrect Input---')\n",
    "            valid_position = False\n",
    "    return position"
   ]
  },
  {
   "cell_type": "code",
   "execution_count": null,
   "metadata": {},
   "outputs": [],
   "source": [
    "def win_check(board, mark):\n",
    "    if mark == board[0] == board[1] == board[2] or \\\n",
    "        mark == board[3] == board[4] == board[5] or \\\n",
    "        mark == board[6] == board[7] == board[8] or \\\n",
    "        mark == board[0] == board[3] == board[6] or \\\n",
    "        mark == board[1] == board[4] == board[7] or \\\n",
    "        mark == board[2] == board[5] == board[8] or \\\n",
    "        mark == board[0] == board[4] == board[8] or \\\n",
    "        mark == board[1] == board[4] == board[6]:\n",
    "        return True\n",
    "    else:\n",
    "        return False"
   ]
  },
  {
   "cell_type": "code",
   "execution_count": null,
   "metadata": {},
   "outputs": [],
   "source": [
    "def display_board(board):\n",
    "    for i in range(3,0,-1):\n",
    "        print('   |   |   ')\n",
    "        print(' {} | {} | {} '.format(board[i*3-3],board[i*3-2],board[i*3-1]))\n",
    "        print('   |   |   ')\n",
    "        if i != 1:\n",
    "            print('-----------')"
   ]
  },
  {
   "cell_type": "code",
   "execution_count": null,
   "metadata": {},
   "outputs": [],
   "source": [
    "def place_marker(board, marker, position):\n",
    "    board[position-1] = marker"
   ]
  },
  {
   "cell_type": "code",
   "execution_count": null,
   "metadata": {},
   "outputs": [],
   "source": [
    "def replay():\n",
    "    get_input = True\n",
    "    while (get_input):\n",
    "        user_input = input('---Do you want to play again?(Y/N)---')\n",
    "        user_input = user_input.upper()\n",
    "        if user_input != 'Y' and user_input != 'N':\n",
    "            print('---Please Enter a Valid Input---')\n",
    "            get_input = True\n",
    "        else:\n",
    "            get_input = False\n",
    "            return user_input=='Y'"
   ]
  },
  {
   "cell_type": "code",
   "execution_count": null,
   "metadata": {},
   "outputs": [],
   "source": [
    "def set_marker():\n",
    "    check_input = False\n",
    "    while not check_input:\n",
    "        marker = input('---Select a Marker(X/O) to Represent Your Positions---')\n",
    "        if marker == 'X' or marker == 'O':\n",
    "            check_input = True\n",
    "        else:\n",
    "            print('---Invalid Input---')\n",
    "            check_input = False\n",
    "    clear_output()        \n",
    "    return marker"
   ]
  },
  {
   "cell_type": "code",
   "execution_count": null,
   "metadata": {},
   "outputs": [],
   "source": [
    "def comp_chance(board, comp_marker):\n",
    "    empty_list = []\n",
    "    for i in range(9):\n",
    "        if board[i] == ' ':\n",
    "            empty_list.append(i+1)\n",
    "    return random.choice(empty_list)"
   ]
  },
  {
   "cell_type": "code",
   "execution_count": null,
   "metadata": {},
   "outputs": [],
   "source": [
    "print('---Tic-Tac-Toe Game---')\n",
    "marker = set_marker()\n",
    "comp_marker = ''\n",
    "if marker == 'X':\n",
    "    comp_marker = 'O'\n",
    "else:\n",
    "    comp_marker = 'X'\n",
    "print('---Your marker has been set to {}---'.format(marker))\n",
    "board = ['1', '2', '3', '4', '5', '6', '7', '8', '9']\n",
    "print('\\n---Following is the board structure, please fill in your choice accordingly in a range of 1-9 ---\\n')\n",
    "display_board(board)\n",
    "'''Board Reset'''\n",
    "replay_decision = True\n",
    "while replay_decision:\n",
    "    game_over = False\n",
    "    board = [' ', ' ', ' ', ' ', ' ', ' ', ' ', ' ', ' ']\n",
    "    chance = 0\n",
    "    while not game_over:\n",
    "        input('\\n---Press Any Key to Continue---')\n",
    "        clear_output()\n",
    "        temp_marker = ''\n",
    "        if chance%2==0:\n",
    "            display_board(board)\n",
    "            position = player_choice(board)\n",
    "            place_marker(board, marker, position)\n",
    "            temp_marker = marker\n",
    "        else:\n",
    "            print(\"\\n---Computer's Move---\\n\")\n",
    "            position = comp_chance(board, comp_marker)\n",
    "            place_marker(board, comp_marker, position)\n",
    "            temp_marker = comp_marker\n",
    "        display_board(board)\n",
    "        if win_check(board,temp_marker):\n",
    "            game_over = True\n",
    "            if chance%2==0:\n",
    "                print('---CONGRATULATIONS!!!---\\n'*3)\n",
    "            else:\n",
    "                print('---GAME OVER---YOU LOST---\\n'*3)\n",
    "            replay_decision = replay()\n",
    "            continue\n",
    "        game_over = full_board_check(board)\n",
    "        if game_over:\n",
    "            print('---GAME OVER---BOARD FULL---\\n'*3)\n",
    "            replay_decision = replay()\n",
    "        chance += 1"
   ]
  }
 ],
 "metadata": {
  "kernelspec": {
   "display_name": "Python 3",
   "language": "python",
   "name": "python3"
  },
  "language_info": {
   "codemirror_mode": {
    "name": "ipython",
    "version": 3
   },
   "file_extension": ".py",
   "mimetype": "text/x-python",
   "name": "python",
   "nbconvert_exporter": "python",
   "pygments_lexer": "ipython3",
   "version": "3.6.4"
  }
 },
 "nbformat": 4,
 "nbformat_minor": 2
}
